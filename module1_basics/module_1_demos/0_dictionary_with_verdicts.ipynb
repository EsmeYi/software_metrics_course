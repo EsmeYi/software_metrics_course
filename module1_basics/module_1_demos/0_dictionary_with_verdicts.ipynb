{
 "cells": [
  {
   "cell_type": "markdown",
   "metadata": {},
   "source": [
    "# This code builds a large dictionary of all lines with their verdicts\n",
    "\n",
    "We need this to add the verdict to the lines that have been featurized"
   ]
  },
  {
   "cell_type": "code",
   "execution_count": 1,
   "metadata": {},
   "outputs": [],
   "source": [
    "import pandas as pd"
   ]
  },
  {
   "cell_type": "markdown",
   "metadata": {},
   "source": [
    "In this code, I clean the data from the problems if we have $ in the line. This problems makes the pandas to skip the line and we do not want that in the real code.\n",
    "\n",
    "To clean it, we read the file line-by-line, split the line and check if the separator was used in the line (more splits than expected). If so, we join the line and skip the separator. \n",
    "\n",
    "Then we save the file."
   ]
  },
  {
   "cell_type": "code",
   "execution_count": 15,
   "metadata": {},
   "outputs": [],
   "source": [
    "with open('./gerrit_review_comments_dictionary_sentiment.csv', 'r', encoding='utf8') as fRaw:\n",
    "    linesRaw = fRaw.readlines()"
   ]
  },
  {
   "cell_type": "code",
   "execution_count": 16,
   "metadata": {},
   "outputs": [],
   "source": [
    "linesProcessed = []\n",
    "for oneLine in linesRaw:\n",
    "    lineEl = oneLine.split(';')\n",
    "    nEl = len(lineEl)\n",
    "    if nEl > 4:\n",
    "        codeContent = ''.join(lineEl[3:])\n",
    "        codeContent = codeContent.replace('$','_')\n",
    "        strLine = '$'.join(lineEl[:3])\n",
    "        strLine += '$' + codeContent\n",
    "    else:\n",
    "        strLine = '$'.join(lineEl)\n",
    "    linesProcessed.append(strLine)"
   ]
  },
  {
   "cell_type": "code",
   "execution_count": 17,
   "metadata": {},
   "outputs": [],
   "source": [
    "fOut= open('./gerrit_reviews_comments_dictionary_sentiment_cleaned.csv', 'w', encoding='utf8')\n",
    "\n",
    "for oneLine in linesProcessed:\n",
    "    fOut.write(oneLine + '\\n')\n",
    "    \n",
    "fOut.close()"
   ]
  },
  {
   "cell_type": "markdown",
   "metadata": {},
   "source": [
    "This code reads the csv file and creates a dictionary for the lines, which we can later on use when adding a verdict to a specific line. "
   ]
  },
  {
   "cell_type": "code",
   "execution_count": 9,
   "metadata": {},
   "outputs": [],
   "source": [
    "dfLines = pd.read_csv('./gerrit_reviews_comments_dictionary_sentiment_cleaned.csv', \n",
    "                      sep='$',\n",
    "                     error_bad_lines=False,\n",
    "                     warn_bad_lines=True,\n",
    "                     index_col=False, \n",
    "                     encoding='utf8')"
   ]
  },
  {
   "cell_type": "code",
   "execution_count": 10,
   "metadata": {},
   "outputs": [
    {
     "data": {
      "text/html": [
       "<div>\n",
       "<style scoped>\n",
       "    .dataframe tbody tr th:only-of-type {\n",
       "        vertical-align: middle;\n",
       "    }\n",
       "\n",
       "    .dataframe tbody tr th {\n",
       "        vertical-align: top;\n",
       "    }\n",
       "\n",
       "    .dataframe thead th {\n",
       "        text-align: right;\n",
       "    }\n",
       "</style>\n",
       "<table border=\"1\" class=\"dataframe\">\n",
       "  <thead>\n",
       "    <tr style=\"text-align: right;\">\n",
       "      <th></th>\n",
       "      <th>filename</th>\n",
       "      <th>LOC</th>\n",
       "      <th>class_value</th>\n",
       "    </tr>\n",
       "  </thead>\n",
       "  <tbody>\n",
       "    <tr>\n",
       "      <th>0</th>\n",
       "      <td>src/gromacs/applied_forces/densityfitting.cpp</td>\n",
       "      <td>basic_mdspan&lt;const float, dynamicExten...</td>\n",
       "      <td>0</td>\n",
       "    </tr>\n",
       "    <tr>\n",
       "      <th>1</th>\n",
       "      <td>src/gromacs/applied_forces/densityfitting.cpp</td>\n",
       "      <td>basic_mdspan&lt;const float, dynamicExten...</td>\n",
       "      <td>1</td>\n",
       "    </tr>\n",
       "    <tr>\n",
       "      <th>2</th>\n",
       "      <td>src/gromacs/applied_forces/densityfitting.cpp</td>\n",
       "      <td>* Asserts that reading went okay, exi...</td>\n",
       "      <td>0</td>\n",
       "    </tr>\n",
       "    <tr>\n",
       "      <th>3</th>\n",
       "      <td>src/gromacs/applied_forces/densityfitting.cpp</td>\n",
       "      <td>* Asserts that reading went okay, exi...</td>\n",
       "      <td>1</td>\n",
       "    </tr>\n",
       "    <tr>\n",
       "      <th>4</th>\n",
       "      <td>src/gromacs/applied_forces/densityfitting.cpp</td>\n",
       "      <td>= std::make_unique &lt; Translate...</td>\n",
       "      <td>0</td>\n",
       "    </tr>\n",
       "  </tbody>\n",
       "</table>\n",
       "</div>"
      ],
      "text/plain": [
       "                                        filename  \\\n",
       "0  src/gromacs/applied_forces/densityfitting.cpp   \n",
       "1  src/gromacs/applied_forces/densityfitting.cpp   \n",
       "2  src/gromacs/applied_forces/densityfitting.cpp   \n",
       "3  src/gromacs/applied_forces/densityfitting.cpp   \n",
       "4  src/gromacs/applied_forces/densityfitting.cpp   \n",
       "\n",
       "                                                 LOC  class_value  \n",
       "0          basic_mdspan<const float, dynamicExten...            0  \n",
       "1          basic_mdspan<const float, dynamicExten...            1  \n",
       "2           * Asserts that reading went okay, exi...            0  \n",
       "3           * Asserts that reading went okay, exi...            1  \n",
       "4                  = std::make_unique < Translate...            0  "
      ]
     },
     "execution_count": 10,
     "metadata": {},
     "output_type": "execute_result"
    }
   ],
   "source": [
    "dfLines.head()"
   ]
  },
  {
   "cell_type": "code",
   "execution_count": 11,
   "metadata": {},
   "outputs": [],
   "source": [
    "dictLines = dict()\n",
    "\n",
    "for index, row in dfLines.iterrows():\n",
    "    line = row['LOC']\n",
    "    verdict_in_csv = row['class_value']\n",
    "    if line in dictLines:\n",
    "        verdict_in_dict = dictLines[line]\n",
    "        if verdict_in_csv != verdict_in_dict:\n",
    "            dictLines[line] = 1\n",
    "    else:\n",
    "        dictLines[line] = verdict_in_csv\n",
    "        "
   ]
  },
  {
   "cell_type": "code",
   "execution_count": 12,
   "metadata": {},
   "outputs": [
    {
     "name": "stdout",
     "output_type": "stream",
     "text": [
      "149335\n",
      "39123\n"
     ]
    }
   ],
   "source": [
    "print(len(dfLines))\n",
    "print(len(dictLines))"
   ]
  },
  {
   "cell_type": "code",
   "execution_count": 14,
   "metadata": {},
   "outputs": [
    {
     "ename": "AttributeError",
     "evalue": "'dict' object has no attribute 'to_csv'",
     "output_type": "error",
     "traceback": [
      "\u001b[1;31m---------------------------------------------------------------------------\u001b[0m",
      "\u001b[1;31mAttributeError\u001b[0m                            Traceback (most recent call last)",
      "\u001b[1;32m<ipython-input-14-db2243d2a054>\u001b[0m in \u001b[0;36m<module>\u001b[1;34m\u001b[0m\n\u001b[1;32m----> 1\u001b[1;33m \u001b[0mdictLines\u001b[0m\u001b[1;33m.\u001b[0m\u001b[0mto_csv\u001b[0m\u001b[1;33m(\u001b[0m\u001b[1;34m'./gerrit_comments_dictionary_cleaned.csv'\u001b[0m\u001b[1;33m)\u001b[0m\u001b[1;33m\u001b[0m\u001b[0m\n\u001b[0m",
      "\u001b[1;31mAttributeError\u001b[0m: 'dict' object has no attribute 'to_csv'"
     ]
    }
   ],
   "source": [
    "dictLines.to_csv('./gerrit_comments_dictionary_cleaned.csv')"
   ]
  },
  {
   "cell_type": "markdown",
   "metadata": {},
   "source": [
    "After this script, the dictionary is clean, i.e. does not contain any duplicated lines nor inconsistent verdicts.\n",
    "\n",
    "The file can be used by the merger which takes the featurized code and this file to create the training set."
   ]
  },
  {
   "cell_type": "code",
   "execution_count": null,
   "metadata": {},
   "outputs": [],
   "source": []
  }
 ],
 "metadata": {
  "kernelspec": {
   "display_name": "Python 3",
   "language": "python",
   "name": "python3"
  },
  "language_info": {
   "codemirror_mode": {
    "name": "ipython",
    "version": 3
   },
   "file_extension": ".py",
   "mimetype": "text/x-python",
   "name": "python",
   "nbconvert_exporter": "python",
   "pygments_lexer": "ipython3",
   "version": "3.6.6"
  }
 },
 "nbformat": 4,
 "nbformat_minor": 2
}
