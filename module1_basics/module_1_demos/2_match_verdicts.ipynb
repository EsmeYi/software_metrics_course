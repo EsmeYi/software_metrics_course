{
 "cells": [
  {
   "cell_type": "markdown",
   "metadata": {},
   "source": [
    "# Links featurized lines to their verdicts\n",
    "\n",
    "We need this to add the verdict to the lines that have been featurized"
   ]
  },
  {
   "cell_type": "code",
   "execution_count": 1,
   "metadata": {},
   "outputs": [],
   "source": [
    "import pandas as pd"
   ]
  },
  {
   "cell_type": "markdown",
   "metadata": {},
   "source": [
    "This code reads the csv file and creates a dictionary for the lines, which we can later on use when adding a verdict to a specific line. "
   ]
  },
  {
   "cell_type": "code",
   "execution_count": 5,
   "metadata": {},
   "outputs": [],
   "source": [
    "dfLines = pd.read_csv('./gerrit_reviews_comments_dictionary_sentiment_cleaned.csv', \n",
    "                      sep='$',\n",
    "                     error_bad_lines=False,\n",
    "                     warn_bad_lines=True,\n",
    "                     index_col=False)"
   ]
  },
  {
   "cell_type": "code",
   "execution_count": 6,
   "metadata": {},
   "outputs": [
    {
     "data": {
      "text/html": [
       "<div>\n",
       "<style scoped>\n",
       "    .dataframe tbody tr th:only-of-type {\n",
       "        vertical-align: middle;\n",
       "    }\n",
       "\n",
       "    .dataframe tbody tr th {\n",
       "        vertical-align: top;\n",
       "    }\n",
       "\n",
       "    .dataframe thead th {\n",
       "        text-align: right;\n",
       "    }\n",
       "</style>\n",
       "<table border=\"1\" class=\"dataframe\">\n",
       "  <thead>\n",
       "    <tr style=\"text-align: right;\">\n",
       "      <th></th>\n",
       "      <th>filename</th>\n",
       "      <th>LOC</th>\n",
       "      <th>class_value</th>\n",
       "    </tr>\n",
       "  </thead>\n",
       "  <tbody>\n",
       "    <tr>\n",
       "      <th>0</th>\n",
       "      <td>src/gromacs/applied_forces/densityfitting.cpp</td>\n",
       "      <td>basic_mdspan&lt;const float, dynamicExten...</td>\n",
       "      <td>0</td>\n",
       "    </tr>\n",
       "    <tr>\n",
       "      <th>1</th>\n",
       "      <td>src/gromacs/applied_forces/densityfitting.cpp</td>\n",
       "      <td>basic_mdspan&lt;const float, dynamicExten...</td>\n",
       "      <td>1</td>\n",
       "    </tr>\n",
       "    <tr>\n",
       "      <th>2</th>\n",
       "      <td>src/gromacs/applied_forces/densityfitting.cpp</td>\n",
       "      <td>* Asserts that reading went okay, exi...</td>\n",
       "      <td>0</td>\n",
       "    </tr>\n",
       "    <tr>\n",
       "      <th>3</th>\n",
       "      <td>src/gromacs/applied_forces/densityfitting.cpp</td>\n",
       "      <td>* Asserts that reading went okay, exi...</td>\n",
       "      <td>1</td>\n",
       "    </tr>\n",
       "    <tr>\n",
       "      <th>4</th>\n",
       "      <td>src/gromacs/applied_forces/densityfitting.cpp</td>\n",
       "      <td>= std::make_unique &lt; Translate...</td>\n",
       "      <td>0</td>\n",
       "    </tr>\n",
       "  </tbody>\n",
       "</table>\n",
       "</div>"
      ],
      "text/plain": [
       "                                        filename  \\\n",
       "0  src/gromacs/applied_forces/densityfitting.cpp   \n",
       "1  src/gromacs/applied_forces/densityfitting.cpp   \n",
       "2  src/gromacs/applied_forces/densityfitting.cpp   \n",
       "3  src/gromacs/applied_forces/densityfitting.cpp   \n",
       "4  src/gromacs/applied_forces/densityfitting.cpp   \n",
       "\n",
       "                                                 LOC  class_value  \n",
       "0          basic_mdspan<const float, dynamicExten...            0  \n",
       "1          basic_mdspan<const float, dynamicExten...            1  \n",
       "2           * Asserts that reading went okay, exi...            0  \n",
       "3           * Asserts that reading went okay, exi...            1  \n",
       "4                  = std::make_unique < Translate...            0  "
      ]
     },
     "execution_count": 6,
     "metadata": {},
     "output_type": "execute_result"
    }
   ],
   "source": [
    "dfLines.head()"
   ]
  },
  {
   "cell_type": "code",
   "execution_count": 8,
   "metadata": {},
   "outputs": [],
   "source": [
    "dictLines = dict()\n",
    "\n",
    "for index, row in dfLines.iterrows():\n",
    "    line = row['LOC']\n",
    "    verdict_in_csv = row['class_value']\n",
    "    if line in dictLines:\n",
    "        verdict_in_dict = dictLines[line]\n",
    "        if verdict_in_csv != verdict_in_dict:\n",
    "            dictLines[line] = 1\n",
    "    else:\n",
    "        dictLines[line] = verdict_in_csv\n",
    "        "
   ]
  },
  {
   "cell_type": "code",
   "execution_count": 9,
   "metadata": {},
   "outputs": [],
   "source": [
    "dfLinesVerdicts = pd.DataFrame.from_dict(dictLines, orient='index', columns=['class_value'])"
   ]
  },
  {
   "cell_type": "code",
   "execution_count": 10,
   "metadata": {},
   "outputs": [
    {
     "data": {
      "text/html": [
       "<div>\n",
       "<style scoped>\n",
       "    .dataframe tbody tr th:only-of-type {\n",
       "        vertical-align: middle;\n",
       "    }\n",
       "\n",
       "    .dataframe tbody tr th {\n",
       "        vertical-align: top;\n",
       "    }\n",
       "\n",
       "    .dataframe thead th {\n",
       "        text-align: right;\n",
       "    }\n",
       "</style>\n",
       "<table border=\"1\" class=\"dataframe\">\n",
       "  <thead>\n",
       "    <tr style=\"text-align: right;\">\n",
       "      <th></th>\n",
       "      <th>class_value</th>\n",
       "    </tr>\n",
       "    <tr>\n",
       "      <th>line</th>\n",
       "      <th></th>\n",
       "    </tr>\n",
       "  </thead>\n",
       "  <tbody>\n",
       "    <tr>\n",
       "      <th>basic_mdspan&lt;const float, dynamicExtents3D&gt; referenceDensity() const</th>\n",
       "      <td>1</td>\n",
       "    </tr>\n",
       "    <tr>\n",
       "      <th>* Asserts that reading went okay, exits with fatal error otherwise.</th>\n",
       "      <td>1</td>\n",
       "    </tr>\n",
       "    <tr>\n",
       "      <th>= std::make_unique &lt; TranslateAndScale&gt;(reader.transformationToDensityLattice())_</th>\n",
       "      <td>1</td>\n",
       "    </tr>\n",
       "    <tr>\n",
       "      <th>const std::string        c_referenceDensityFileNameTag_ = \"reference-density-filename\"_</th>\n",
       "      <td>1</td>\n",
       "    </tr>\n",
       "    <tr>\n",
       "      <th>DensityFittingParameters parameters__</th>\n",
       "      <td>1</td>\n",
       "    </tr>\n",
       "  </tbody>\n",
       "</table>\n",
       "</div>"
      ],
      "text/plain": [
       "                                                    class_value\n",
       "line                                                           \n",
       "        basic_mdspan<const float, dynamicExtent...            1\n",
       "         * Asserts that reading went okay, exit...            1\n",
       "                = std::make_unique < TranslateA...            1\n",
       "        const std::string        c_referenceDen...            1\n",
       "        DensityFittingParameters parameters__                 1"
      ]
     },
     "execution_count": 10,
     "metadata": {},
     "output_type": "execute_result"
    }
   ],
   "source": [
    "dfLinesVerdicts.index.name = 'line'\n",
    "dfLinesVerdicts.head()"
   ]
  },
  {
   "cell_type": "code",
   "execution_count": 11,
   "metadata": {},
   "outputs": [],
   "source": [
    "# uncomment this line if you want to use a pre-created dictionary with verdicts\n",
    "#dfLinesVerdicts.to_csv('./gerrit_comments_dictionary_cleaned.csv')"
   ]
  },
  {
   "cell_type": "code",
   "execution_count": 12,
   "metadata": {},
   "outputs": [],
   "source": [
    "dfLinesFeaturized = pd.read_csv('./featurized_lines.csv', \n",
    "                                sep='$', \n",
    "                               encoding='utf8',\n",
    "                               error_bad_lines = False, \n",
    "                               index_col=0)"
   ]
  },
  {
   "cell_type": "code",
   "execution_count": 13,
   "metadata": {},
   "outputs": [],
   "source": [
    "dfLinesFeaturized['class_value'] = -1"
   ]
  },
  {
   "cell_type": "code",
   "execution_count": 14,
   "metadata": {},
   "outputs": [],
   "source": [
    "for iLine, oneLine in dfLinesFeaturized.iterrows():\n",
    "    if iLine in dictLines:\n",
    "        verdict = dictLines[iLine]\n",
    "    else:\n",
    "        verdict = 1\n",
    "    #print(iLine)\n",
    "    dfLinesFeaturized.loc[iLine, 'class_value'] = verdict"
   ]
  },
  {
   "cell_type": "code",
   "execution_count": 15,
   "metadata": {},
   "outputs": [],
   "source": [
    "dfLinesFeaturized.to_csv('./train_lines.csv', sep='$', na_rep='0')"
   ]
  },
  {
   "cell_type": "code",
   "execution_count": null,
   "metadata": {},
   "outputs": [],
   "source": []
  }
 ],
 "metadata": {
  "kernelspec": {
   "display_name": "Python 3",
   "language": "python",
   "name": "python3"
  },
  "language_info": {
   "codemirror_mode": {
    "name": "ipython",
    "version": 3
   },
   "file_extension": ".py",
   "mimetype": "text/x-python",
   "name": "python",
   "nbconvert_exporter": "python",
   "pygments_lexer": "ipython3",
   "version": "3.6.6"
  }
 },
 "nbformat": 4,
 "nbformat_minor": 2
}
