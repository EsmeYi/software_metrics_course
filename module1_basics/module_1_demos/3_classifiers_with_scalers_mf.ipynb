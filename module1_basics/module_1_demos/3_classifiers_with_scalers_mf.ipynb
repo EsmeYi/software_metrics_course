{
 "cells": [
  {
   "cell_type": "markdown",
   "metadata": {},
   "source": [
    "# Using Random Forest classifier for the data on reviews"
   ]
  },
  {
   "cell_type": "code",
   "execution_count": 20,
   "metadata": {},
   "outputs": [],
   "source": [
    "import pandas as pd\n",
    "from sklearn.metrics import matthews_corrcoef as mcc"
   ]
  },
  {
   "cell_type": "code",
   "execution_count": 2,
   "metadata": {},
   "outputs": [],
   "source": [
    "dfLinesAll = pd.read_csv('./train_lines.csv', sep='$')"
   ]
  },
  {
   "cell_type": "code",
   "execution_count": 3,
   "metadata": {},
   "outputs": [
    {
     "name": "stdout",
     "output_type": "stream",
     "text": [
      "                                                line  serializer->doReal  \\\n",
      "0              serializer->doReal(&iparams->cross...                   1   \n",
      "1        #include \"gromacs/mdtypes/iforceprovider.h\"                   0   \n",
      "2  /* Target mantissa accuracy forSIMD double pre...                   0   \n",
      "3                     cdh.startFrame(frnr, fr.time)_                   0   \n",
      "4                             sfree(mtop->molblock)_                   0   \n",
      "\n",
      "   &iparams->cross_bb  krr  #include  gromacs/mdtypes/iforceprovider  /*  \\\n",
      "0                   1    1         0                               0   0   \n",
      "1                   0    0         1                               1   0   \n",
      "2                   0    0         0                               0   1   \n",
      "3                   0    0         0                               0   0   \n",
      "4                   0    0         0                               0   0   \n",
      "\n",
      "   Target  cdh  startFrame     ...       minres_  HAVE_RDTSCP  \\\n",
      "0       0    0           0     ...             0            0   \n",
      "1       0    0           0     ...             0            0   \n",
      "2       1    0           0     ...             0            0   \n",
      "3       0    1           1     ...             0            0   \n",
      "4       0    0           0     ...             0            0   \n",
      "\n",
      "   constraint_index  GMX_USE_NICE  YZX  alg  ftol  *GMX_SIMD_WIDTH_HERE  j+2  \\\n",
      "0                 0             0    0    0     0                     0    0   \n",
      "1                 0             0    0    0     0                     0    0   \n",
      "2                 0             0    0    0     0                     0    0   \n",
      "3                 0             0    0    0     0                     0    0   \n",
      "4                 0             0    0    0     0                     0    0   \n",
      "\n",
      "   class_value  \n",
      "0            1  \n",
      "1            0  \n",
      "2            1  \n",
      "3            0  \n",
      "4            1  \n",
      "\n",
      "[5 rows x 3453 columns]\n"
     ]
    }
   ],
   "source": [
    "print(dfLinesAll.head())\n",
    "dfLinesAll = dfLinesAll.rename(columns = {'fit': 'fit_feature'})"
   ]
  },
  {
   "cell_type": "code",
   "execution_count": 4,
   "metadata": {},
   "outputs": [
    {
     "data": {
      "text/plain": [
       "class_value\n",
       "0    21153\n",
       "1    16482\n",
       "Name: line, dtype: int64"
      ]
     },
     "execution_count": 4,
     "metadata": {},
     "output_type": "execute_result"
    }
   ],
   "source": [
    "dfLinesAll.groupby('class_value')['line'].count()"
   ]
  },
  {
   "cell_type": "code",
   "execution_count": 5,
   "metadata": {},
   "outputs": [],
   "source": [
    "X = dfLinesAll.drop(['class_value', 'line'], axis=1)\n",
    "y = dfLinesAll['class_value']"
   ]
  },
  {
   "cell_type": "code",
   "execution_count": 6,
   "metadata": {},
   "outputs": [],
   "source": [
    "from sklearn.model_selection import train_test_split\n",
    "X_train, X_test, y_train, y_test = train_test_split(X, y, test_size=0.33, random_state=42)"
   ]
  },
  {
   "cell_type": "code",
   "execution_count": 7,
   "metadata": {},
   "outputs": [
    {
     "name": "stderr",
     "output_type": "stream",
     "text": [
      "C:\\ProgramData\\Anaconda3\\lib\\site-packages\\sklearn\\ensemble\\weight_boosting.py:29: DeprecationWarning: numpy.core.umath_tests is an internal NumPy module and should not be imported. It will be removed in a future NumPy release.\n",
      "  from numpy.core.umath_tests import inner1d\n"
     ]
    },
    {
     "data": {
      "text/plain": [
       "0.6748792270531401"
      ]
     },
     "execution_count": 7,
     "metadata": {},
     "output_type": "execute_result"
    }
   ],
   "source": [
    "from sklearn.ensemble import RandomForestClassifier\n",
    "from sklearn.metrics import accuracy_score\n",
    "\n",
    "rnd_clf = RandomForestClassifier(n_estimators=500, max_leaf_nodes=128, n_jobs=-1)\n",
    "rnd_clf.fit(X_train, y_train)\n",
    "y_pred_rf = rnd_clf.predict(X_test)\n",
    "\n",
    "accuracy_score(y_test, y_pred_rf)"
   ]
  },
  {
   "cell_type": "code",
   "execution_count": 21,
   "metadata": {},
   "outputs": [
    {
     "name": "stdout",
     "output_type": "stream",
     "text": [
      "0.48257303946693997\n",
      "             precision    recall  f1-score   support\n",
      "\n",
      "          0       0.64      0.94      0.76      6932\n",
      "          1       0.81      0.34      0.48      5488\n",
      "\n",
      "avg / total       0.72      0.67      0.64     12420\n",
      "\n"
     ]
    },
    {
     "ename": "NameError",
     "evalue": "name 'y_pred' is not defined",
     "output_type": "error",
     "traceback": [
      "\u001b[1;31m---------------------------------------------------------------------------\u001b[0m",
      "\u001b[1;31mNameError\u001b[0m                                 Traceback (most recent call last)",
      "\u001b[1;32m<ipython-input-21-e6db4f4d1bc3>\u001b[0m in \u001b[0;36m<module>\u001b[1;34m\u001b[0m\n\u001b[0;32m      2\u001b[0m \u001b[0mprint\u001b[0m\u001b[1;33m(\u001b[0m\u001b[0mf1_score\u001b[0m\u001b[1;33m(\u001b[0m\u001b[0my_test\u001b[0m\u001b[1;33m,\u001b[0m \u001b[0my_pred_rf\u001b[0m\u001b[1;33m)\u001b[0m\u001b[1;33m)\u001b[0m\u001b[1;33m\u001b[0m\u001b[0m\n\u001b[0;32m      3\u001b[0m \u001b[0mprint\u001b[0m\u001b[1;33m(\u001b[0m\u001b[0mclassification_report\u001b[0m\u001b[1;33m(\u001b[0m\u001b[0my_test\u001b[0m\u001b[1;33m,\u001b[0m \u001b[0my_pred_rf\u001b[0m\u001b[1;33m)\u001b[0m\u001b[1;33m)\u001b[0m\u001b[1;33m\u001b[0m\u001b[0m\n\u001b[1;32m----> 4\u001b[1;33m \u001b[0mprint\u001b[0m\u001b[1;33m(\u001b[0m\u001b[0mmcc\u001b[0m\u001b[1;33m(\u001b[0m\u001b[0my_test\u001b[0m\u001b[1;33m,\u001b[0m \u001b[0my_pred\u001b[0m\u001b[1;33m)\u001b[0m\u001b[1;33m)\u001b[0m\u001b[1;33m\u001b[0m\u001b[0m\n\u001b[0m",
      "\u001b[1;31mNameError\u001b[0m: name 'y_pred' is not defined"
     ]
    }
   ],
   "source": [
    "from sklearn.metrics import f1_score, classification_report\n",
    "print(f1_score(y_test, y_pred_rf))\n",
    "print(classification_report(y_test, y_pred_rf))\n",
    "print(mcc(y_test, y_pred))"
   ]
  },
  {
   "cell_type": "markdown",
   "metadata": {},
   "source": [
    "# Ada boost classifier"
   ]
  },
  {
   "cell_type": "code",
   "execution_count": 11,
   "metadata": {},
   "outputs": [
    {
     "data": {
      "text/plain": [
       "AdaBoostClassifier(algorithm='SAMME.R',\n",
       "          base_estimator=DecisionTreeClassifier(class_weight=None, criterion='gini', max_depth=100,\n",
       "            max_features=None, max_leaf_nodes=None,\n",
       "            min_impurity_split=1e-07, min_samples_leaf=1,\n",
       "            min_samples_split=2, min_weight_fraction_leaf=0.0,\n",
       "            presort=False, random_state=None, splitter='best'),\n",
       "          learning_rate=0.5, n_estimators=200, random_state=None)"
      ]
     },
     "execution_count": 11,
     "metadata": {},
     "output_type": "execute_result"
    }
   ],
   "source": [
    "from sklearn.ensemble import AdaBoostClassifier\n",
    "from sklearn.tree import DecisionTreeClassifier\n",
    "ada_clf = AdaBoostClassifier(\n",
    " DecisionTreeClassifier(max_depth=100), n_estimators=200,\n",
    " algorithm=\"SAMME.R\", learning_rate=0.5)\n",
    "ada_clf.fit(X_train, y_train)"
   ]
  },
  {
   "cell_type": "markdown",
   "metadata": {},
   "source": [
    "# Model validation"
   ]
  },
  {
   "cell_type": "code",
   "execution_count": 12,
   "metadata": {},
   "outputs": [
    {
     "name": "stdout",
     "output_type": "stream",
     "text": [
      "Accuracy: 0.749, F1: 0.677\n",
      "             precision    recall  f1-score   support\n",
      "\n",
      "          0       0.73      0.87      0.79      6932\n",
      "          1       0.78      0.60      0.68      5488\n",
      "\n",
      "avg / total       0.75      0.75      0.74     12420\n",
      "\n"
     ]
    }
   ],
   "source": [
    "from sklearn.metrics import f1_score\n",
    "y_pred_ab = ada_clf.predict(X_test)\n",
    "\n",
    "acc = accuracy_score(y_test, y_pred_ab)\n",
    "f1 = f1_score(y_test, y_pred_ab)\n",
    "mcc1 = mcc(y_test, y_pred)\n",
    "\n",
    "print(f'Accuracy: {acc:.3f}, F1: {f1:.3f}, mcc: {mcc1:.3f}')\n",
    "print(classification_report(y_test, y_pred_ab))"
   ]
  },
  {
   "cell_type": "code",
   "execution_count": null,
   "metadata": {},
   "outputs": [],
   "source": [
    "from sklearn.model_selection import cross_val_score\n",
    "scoring_to_get = ['accuracy', 'precision', 'f1', 'recall']\n",
    "cross_val_score(ada_clf, X_train, y_train, cv=10, scoring=scoring_to_get)"
   ]
  },
  {
   "cell_type": "code",
   "execution_count": null,
   "metadata": {},
   "outputs": [],
   "source": [
    "from sklearn import metrics\n",
    "#metrics.SCORERS.keys()"
   ]
  },
  {
   "cell_type": "code",
   "execution_count": 17,
   "metadata": {},
   "outputs": [
    {
     "name": "stdout",
     "output_type": "stream",
     "text": [
      "Accuracy: 0.711, F1: 0.618\n",
      "             precision    recall  f1-score   support\n",
      "\n",
      "          0       0.70      0.86      0.77      6932\n",
      "          1       0.74      0.53      0.62      5488\n",
      "\n",
      "avg / total       0.72      0.71      0.70     12420\n",
      "\n",
      "[[5933  999]\n",
      " [2589 2899]]\n"
     ]
    }
   ],
   "source": [
    "from sklearn.pipeline import Pipeline\n",
    "from sklearn.ensemble import RandomForestClassifier\n",
    "from sklearn.preprocessing import StandardScaler\n",
    "from sklearn.metrics import confusion_matrix\n",
    "num_pipeline = Pipeline([\n",
    "        ('std_scaler', StandardScaler()),\n",
    "        ('rf', RandomForestClassifier()),\n",
    "    ])\n",
    "\n",
    "num_pipeline.fit(X_train, y_train)\n",
    "\n",
    "y_pred_ab = num_pipeline.predict(X_test)\n",
    "\n",
    "acc = accuracy_score(y_test, y_pred_ab)\n",
    "f1 = f1_score(y_test, y_pred_ab)\n",
    "\n",
    "mcc1 = mcc(y_test, y_pred)\n",
    "\n",
    "print(f'Accuracy: {acc:.3f}, F1: {f1:.3f}, mcc: {mcc1:.3f}')\n",
    "print(classification_report(y_test, y_pred_ab))\n",
    "print(confusion_matrix(y_test, y_pred_ab))"
   ]
  },
  {
   "cell_type": "code",
   "execution_count": null,
   "metadata": {},
   "outputs": [],
   "source": [
    "from sklearn.model_selection import cross_val_score\n",
    "#cross_val_score(num_pipeline, X_train, y_train, cv=10, scoring=scoring_to_get)\n",
    "#cross_val_score(num_pipeline, X_train, y_train, cv=10, scoring='accuracy')\n",
    "#cross_val_score(num_pipeline, X_train, y_train, cv=10, scoring='precision')\n",
    "#cross_val_score(num_pipeline, X_train, y_train, cv=10, scoring='recall')"
   ]
  },
  {
   "cell_type": "code",
   "execution_count": 18,
   "metadata": {},
   "outputs": [
    {
     "name": "stdout",
     "output_type": "stream",
     "text": [
      "Accuracy: 0.675, F1: 0.553\n",
      "             precision    recall  f1-score   support\n",
      "\n",
      "          0       0.66      0.85      0.75      6932\n",
      "          1       0.71      0.45      0.55      5488\n",
      "\n",
      "avg / total       0.68      0.68      0.66     12420\n",
      "\n",
      "[[5894 1038]\n",
      " [2995 2493]]\n"
     ]
    }
   ],
   "source": [
    "from sklearn.ensemble import AdaBoostClassifier\n",
    "from sklearn.pipeline import Pipeline\n",
    "from sklearn.preprocessing import StandardScaler\n",
    "from sklearn.tree import DecisionTreeClassifier\n",
    "from sklearn.model_selection import cross_val_score\n",
    "\n",
    "\n",
    "ab_pipeline = Pipeline([\n",
    "        ('std_scaler', StandardScaler()),\n",
    "        ('ab', AdaBoostClassifier(DecisionTreeClassifier(max_depth=100), n_estimators=200, algorithm=\"SAMME.R\", learning_rate=0.2)),\n",
    "    ])\n",
    "\n",
    "ab_pipeline.fit(X_train, y_train)\n",
    "\n",
    "y_pred_ab = ab_pipeline.predict(X_test)\n",
    "\n",
    "acc = accuracy_score(y_test, y_pred_ab)\n",
    "f1 = f1_score(y_test, y_pred_ab)\n",
    "\n",
    "mcc1 = mcc(y_test, y_pred)\n",
    "\n",
    "print(f'Accuracy: {acc:.3f}, F1: {f1:.3f}, mcc: {mcc1:.3f}')\n",
    "print(classification_report(y_test, y_pred_ab))\n",
    "print(confusion_matrix(y_test, y_pred_ab))\n",
    "#cross_val_score(ab_pipeline, X, y, cv=10, scoring=scoring_to_get)"
   ]
  },
  {
   "cell_type": "code",
   "execution_count": 18,
   "metadata": {},
   "outputs": [
    {
     "data": {
      "text/plain": [
       "array([0.70985915, 0.75119617, 0.70379538, 0.74084507, 0.74901575,\n",
       "       0.65107459, 0.71698113, 0.7248062 , 0.74209012, 0.75557207])"
      ]
     },
     "execution_count": 18,
     "metadata": {},
     "output_type": "execute_result"
    }
   ],
   "source": [
    "#cross_val_score(ab_pipeline, X, y, cv=10, scoring='precision')"
   ]
  },
  {
   "cell_type": "code",
   "execution_count": 19,
   "metadata": {},
   "outputs": [
    {
     "data": {
      "text/plain": [
       "array([0.60885385, 0.63432383, 0.63046117, 0.62196602, 0.46480583,\n",
       "       0.6086165 , 0.61286408, 0.4526699 , 0.45995146, 0.49635922])"
      ]
     },
     "execution_count": 19,
     "metadata": {},
     "output_type": "execute_result"
    }
   ],
   "source": [
    "#cross_val_score(ab_pipeline, X, y, cv=10, scoring='recacoll')"
   ]
  },
  {
   "cell_type": "code",
   "execution_count": 20,
   "metadata": {},
   "outputs": [
    {
     "data": {
      "text/plain": [
       "array([0.70756972, 0.70464807, 0.69341126, 0.73638055, 0.70289663,\n",
       "       0.6986447 , 0.70395961, 0.69731597, 0.69545575, 0.7214988 ])"
      ]
     },
     "execution_count": 20,
     "metadata": {},
     "output_type": "execute_result"
    }
   ],
   "source": [
    "#cross_val_score(ab_pipeline, X, y, cv=10, scoring='accuracy')"
   ]
  },
  {
   "cell_type": "code",
   "execution_count": 19,
   "metadata": {},
   "outputs": [
    {
     "name": "stdout",
     "output_type": "stream",
     "text": [
      "Accuracy: 0.731, F1: 0.666\n",
      "             precision    recall  f1-score   support\n",
      "\n",
      "          0       0.73      0.83      0.77      6932\n",
      "          1       0.74      0.61      0.67      5488\n",
      "\n",
      "avg / total       0.73      0.73      0.73     12420\n",
      "\n",
      "[[5739 1193]\n",
      " [2153 3335]]\n"
     ]
    }
   ],
   "source": [
    "from sklearn.ensemble import AdaBoostClassifier\n",
    "from sklearn.pipeline import Pipeline\n",
    "from sklearn.preprocessing import StandardScaler\n",
    "from sklearn.tree import DecisionTreeClassifier\n",
    "from sklearn.model_selection import cross_val_score\n",
    "\n",
    "\n",
    "ab_pipeline = Pipeline([\n",
    "        ('std_scaler', StandardScaler()),\n",
    "        ('ab', AdaBoostClassifier(DecisionTreeClassifier(max_depth=20), n_estimators=600, algorithm=\"SAMME.R\", learning_rate=0.2)),\n",
    "    ])\n",
    "\n",
    "ab_pipeline.fit(X_train, y_train)\n",
    "\n",
    "y_pred_ab = ab_pipeline.predict(X_tmatthewsest)\n",
    "\n",
    "acc = accuracy_score(y_test, y_pred_ab)\n",
    "f1 = f1_score(y_test, y_pred_ab)\n",
    "\n",
    "mcc1 = mcc(y_test, y_pred)\n",
    "\n",
    "print(f'Accuracy: {acc:.3f}, F1: {f1:.3f}, mcc: {mcc1:.3f}')\n",
    "print(classification_report(y_test, y_pred_ab))\n",
    "print(confusion_matrix(y_test, y_pred_ab))\n",
    "\n",
    "#cross_val_score(ab_pipeline, X, y, cv=10, scoring=scoring_to_get)"
   ]
  },
  {
   "cell_type": "code",
   "execution_count": 22,
   "metadata": {},
   "outputs": [
    {
     "data": {
      "text/plain": [
       "array([0.75134305, 0.76412962, 0.7896365 , 0.74066244, 0.76654804,\n",
       "       0.76223242, 0.76309795, 0.74690007, 0.76560122, 0.74428571])"
      ]
     },
     "execution_count": 22,
     "metadata": {},
     "output_type": "execute_result"
    }
   ],
   "source": [
    "#cross_val_score(ab_pipeline, X, y, cv=10, scoring='precision')"
   ]
  },
  {
   "cell_type": "code",
   "execution_count": 23,
   "metadata": {},
   "outputs": [
    {
     "data": {
      "text/plain": [
       "array([0.60157671, 0.62765312, 0.59648058, 0.61104369, 0.63288835,\n",
       "       0.62621359, 0.61529126, 0.59101942, 0.61286408, 0.64866505])"
      ]
     },
     "execution_count": 23,
     "metadata": {},
     "output_type": "execute_result"
    }
   ],
   "source": [
    "#cross_val_score(ab_pipeline, X, y, cv=10, scoring='recall')"
   ]
  },
  {
   "cell_type": "code",
   "execution_count": 24,
   "metadata": {},
   "outputs": [
    {
     "data": {
      "text/plain": [
       "array([0.73678619, 0.7373174 , 0.73963868, 0.74355567, 0.74249269,\n",
       "       0.73584906, 0.73372309, 0.74063247, 0.73425458, 0.73505182])"
      ]
     },
     "execution_count": 24,
     "metadata": {},
     "output_type": "execute_result"
    }
   ],
   "source": [
    "#cross_val_score(ab_pipeline, X, y, cv=10, scoring='accuracy')"
   ]
  },
  {
   "cell_type": "code",
   "execution_count": null,
   "metadata": {},
   "outputs": [],
   "source": []
  }
 ],
 "metadata": {
  "kernelspec": {
   "display_name": "Python 3",
   "language": "python",
   "name": "python3"
  },
  "language_info": {
   "codemirror_mode": {
    "name": "ipython",
    "version": 3
   },
   "file_extension": ".py",
   "mimetype": "text/x-python",
   "name": "python",
   "nbconvert_exporter": "python",
   "pygments_lexer": "ipython3",
   "version": "3.6.6"
  }
 },
 "nbformat": 4,
 "nbformat_minor": 2
}
