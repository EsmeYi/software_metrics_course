{
 "cells": [
  {
   "cell_type": "code",
   "execution_count": 1,
   "metadata": {},
   "outputs": [
    {
     "name": "stderr",
     "output_type": "stream",
     "text": [
      "C:\\ProgramData\\Anaconda3\\lib\\site-packages\\sklearn\\ensemble\\weight_boosting.py:29: DeprecationWarning: numpy.core.umath_tests is an internal NumPy module and should not be imported. It will be removed in a future NumPy release.\n",
      "  from numpy.core.umath_tests import inner1d\n"
     ]
    }
   ],
   "source": [
    "# Load pandas\n",
    "import pandas as pd\n",
    "\n",
    "# Load numpy\n",
    "import numpy as np\n",
    "np.set_printoptions(precision=3)\n",
    "\n",
    "from sklearn.decomposition import PCA\n",
    "from sklearn.manifold import TSNE\n",
    "\n",
    "#pip install maptplotlib\n",
    "import matplotlib.pyplot as plt\n",
    "%matplotlib inline\n",
    "\n",
    "from sklearn.ensemble import RandomForestClassifier\n",
    "from sklearn.dummy import DummyClassifier\n",
    "\n",
    "from sklearn.metrics import accuracy_score\n",
    "from sklearn.metrics import f1_score\n",
    "from sklearn.metrics import recall_score\n",
    "from sklearn.metrics import precision_score\n",
    "from sklearn.metrics import matthews_corrcoef as mcc"
   ]
  },
  {
   "cell_type": "code",
   "execution_count": 2,
   "metadata": {},
   "outputs": [],
   "source": [
    "\n",
    "gerrit_data = pd.read_csv(\"./train_lines.csv\", sep=\"$\", index_col=0)\n",
    "gerrit_data.reset_index(inplace=True)"
   ]
  },
  {
   "cell_type": "code",
   "execution_count": 3,
   "metadata": {},
   "outputs": [
    {
     "data": {
      "text/html": [
       "<div>\n",
       "<style scoped>\n",
       "    .dataframe tbody tr th:only-of-type {\n",
       "        vertical-align: middle;\n",
       "    }\n",
       "\n",
       "    .dataframe tbody tr th {\n",
       "        vertical-align: top;\n",
       "    }\n",
       "\n",
       "    .dataframe thead th {\n",
       "        text-align: right;\n",
       "    }\n",
       "</style>\n",
       "<table border=\"1\" class=\"dataframe\">\n",
       "  <thead>\n",
       "    <tr style=\"text-align: right;\">\n",
       "      <th></th>\n",
       "      <th>line</th>\n",
       "      <th>serializer-&gt;doReal</th>\n",
       "      <th>&amp;iparams-&gt;cross_bb</th>\n",
       "      <th>krr</th>\n",
       "      <th>#include</th>\n",
       "      <th>gromacs/mdtypes/iforceprovider</th>\n",
       "      <th>/*</th>\n",
       "      <th>Target</th>\n",
       "      <th>cdh</th>\n",
       "      <th>startFrame</th>\n",
       "      <th>...</th>\n",
       "      <th>minres_</th>\n",
       "      <th>HAVE_RDTSCP</th>\n",
       "      <th>constraint_index</th>\n",
       "      <th>GMX_USE_NICE</th>\n",
       "      <th>YZX</th>\n",
       "      <th>alg</th>\n",
       "      <th>ftol</th>\n",
       "      <th>*GMX_SIMD_WIDTH_HERE</th>\n",
       "      <th>j+2</th>\n",
       "      <th>class_value</th>\n",
       "    </tr>\n",
       "  </thead>\n",
       "  <tbody>\n",
       "    <tr>\n",
       "      <th>0</th>\n",
       "      <td>serializer-&gt;doReal(&amp;iparams-&gt;cross...</td>\n",
       "      <td>1</td>\n",
       "      <td>1</td>\n",
       "      <td>1</td>\n",
       "      <td>0</td>\n",
       "      <td>0</td>\n",
       "      <td>0</td>\n",
       "      <td>0</td>\n",
       "      <td>0</td>\n",
       "      <td>0</td>\n",
       "      <td>...</td>\n",
       "      <td>0</td>\n",
       "      <td>0</td>\n",
       "      <td>0</td>\n",
       "      <td>0</td>\n",
       "      <td>0</td>\n",
       "      <td>0</td>\n",
       "      <td>0</td>\n",
       "      <td>0</td>\n",
       "      <td>0</td>\n",
       "      <td>1</td>\n",
       "    </tr>\n",
       "    <tr>\n",
       "      <th>1</th>\n",
       "      <td>#include \"gromacs/mdtypes/iforceprovider.h\"</td>\n",
       "      <td>0</td>\n",
       "      <td>0</td>\n",
       "      <td>0</td>\n",
       "      <td>1</td>\n",
       "      <td>1</td>\n",
       "      <td>0</td>\n",
       "      <td>0</td>\n",
       "      <td>0</td>\n",
       "      <td>0</td>\n",
       "      <td>...</td>\n",
       "      <td>0</td>\n",
       "      <td>0</td>\n",
       "      <td>0</td>\n",
       "      <td>0</td>\n",
       "      <td>0</td>\n",
       "      <td>0</td>\n",
       "      <td>0</td>\n",
       "      <td>0</td>\n",
       "      <td>0</td>\n",
       "      <td>0</td>\n",
       "    </tr>\n",
       "    <tr>\n",
       "      <th>2</th>\n",
       "      <td>/* Target mantissa accuracy forSIMD double pre...</td>\n",
       "      <td>0</td>\n",
       "      <td>0</td>\n",
       "      <td>0</td>\n",
       "      <td>0</td>\n",
       "      <td>0</td>\n",
       "      <td>1</td>\n",
       "      <td>1</td>\n",
       "      <td>0</td>\n",
       "      <td>0</td>\n",
       "      <td>...</td>\n",
       "      <td>0</td>\n",
       "      <td>0</td>\n",
       "      <td>0</td>\n",
       "      <td>0</td>\n",
       "      <td>0</td>\n",
       "      <td>0</td>\n",
       "      <td>0</td>\n",
       "      <td>0</td>\n",
       "      <td>0</td>\n",
       "      <td>1</td>\n",
       "    </tr>\n",
       "    <tr>\n",
       "      <th>3</th>\n",
       "      <td>cdh.startFrame(frnr, fr.time)_</td>\n",
       "      <td>0</td>\n",
       "      <td>0</td>\n",
       "      <td>0</td>\n",
       "      <td>0</td>\n",
       "      <td>0</td>\n",
       "      <td>0</td>\n",
       "      <td>0</td>\n",
       "      <td>1</td>\n",
       "      <td>1</td>\n",
       "      <td>...</td>\n",
       "      <td>0</td>\n",
       "      <td>0</td>\n",
       "      <td>0</td>\n",
       "      <td>0</td>\n",
       "      <td>0</td>\n",
       "      <td>0</td>\n",
       "      <td>0</td>\n",
       "      <td>0</td>\n",
       "      <td>0</td>\n",
       "      <td>0</td>\n",
       "    </tr>\n",
       "    <tr>\n",
       "      <th>4</th>\n",
       "      <td>sfree(mtop-&gt;molblock)_</td>\n",
       "      <td>0</td>\n",
       "      <td>0</td>\n",
       "      <td>0</td>\n",
       "      <td>0</td>\n",
       "      <td>0</td>\n",
       "      <td>0</td>\n",
       "      <td>0</td>\n",
       "      <td>0</td>\n",
       "      <td>0</td>\n",
       "      <td>...</td>\n",
       "      <td>0</td>\n",
       "      <td>0</td>\n",
       "      <td>0</td>\n",
       "      <td>0</td>\n",
       "      <td>0</td>\n",
       "      <td>0</td>\n",
       "      <td>0</td>\n",
       "      <td>0</td>\n",
       "      <td>0</td>\n",
       "      <td>1</td>\n",
       "    </tr>\n",
       "  </tbody>\n",
       "</table>\n",
       "<p>5 rows × 3453 columns</p>\n",
       "</div>"
      ],
      "text/plain": [
       "                                                line  serializer->doReal  \\\n",
       "0              serializer->doReal(&iparams->cross...                   1   \n",
       "1        #include \"gromacs/mdtypes/iforceprovider.h\"                   0   \n",
       "2  /* Target mantissa accuracy forSIMD double pre...                   0   \n",
       "3                     cdh.startFrame(frnr, fr.time)_                   0   \n",
       "4                             sfree(mtop->molblock)_                   0   \n",
       "\n",
       "   &iparams->cross_bb  krr  #include  gromacs/mdtypes/iforceprovider  /*  \\\n",
       "0                   1    1         0                               0   0   \n",
       "1                   0    0         1                               1   0   \n",
       "2                   0    0         0                               0   1   \n",
       "3                   0    0         0                               0   0   \n",
       "4                   0    0         0                               0   0   \n",
       "\n",
       "   Target  cdh  startFrame     ...       minres_  HAVE_RDTSCP  \\\n",
       "0       0    0           0     ...             0            0   \n",
       "1       0    0           0     ...             0            0   \n",
       "2       1    0           0     ...             0            0   \n",
       "3       0    1           1     ...             0            0   \n",
       "4       0    0           0     ...             0            0   \n",
       "\n",
       "   constraint_index  GMX_USE_NICE  YZX  alg  ftol  *GMX_SIMD_WIDTH_HERE  j+2  \\\n",
       "0                 0             0    0    0     0                     0    0   \n",
       "1                 0             0    0    0     0                     0    0   \n",
       "2                 0             0    0    0     0                     0    0   \n",
       "3                 0             0    0    0     0                     0    0   \n",
       "4                 0             0    0    0     0                     0    0   \n",
       "\n",
       "   class_value  \n",
       "0            1  \n",
       "1            0  \n",
       "2            1  \n",
       "3            0  \n",
       "4            1  \n",
       "\n",
       "[5 rows x 3453 columns]"
      ]
     },
     "execution_count": 3,
     "metadata": {},
     "output_type": "execute_result"
    }
   ],
   "source": [
    "\n",
    "gerrit_data.head(5)"
   ]
  },
  {
   "cell_type": "code",
   "execution_count": 4,
   "metadata": {},
   "outputs": [
    {
     "data": {
      "text/html": [
       "<div>\n",
       "<style scoped>\n",
       "    .dataframe tbody tr th:only-of-type {\n",
       "        vertical-align: middle;\n",
       "    }\n",
       "\n",
       "    .dataframe tbody tr th {\n",
       "        vertical-align: top;\n",
       "    }\n",
       "\n",
       "    .dataframe thead th {\n",
       "        text-align: right;\n",
       "    }\n",
       "</style>\n",
       "<table border=\"1\" class=\"dataframe\">\n",
       "  <thead>\n",
       "    <tr style=\"text-align: right;\">\n",
       "      <th></th>\n",
       "      <th>serializer-&gt;doReal</th>\n",
       "      <th>&amp;iparams-&gt;cross_bb</th>\n",
       "      <th>krr</th>\n",
       "      <th>#include</th>\n",
       "      <th>gromacs/mdtypes/iforceprovider</th>\n",
       "      <th>/*</th>\n",
       "      <th>Target</th>\n",
       "      <th>cdh</th>\n",
       "      <th>startFrame</th>\n",
       "      <th>sfree</th>\n",
       "      <th>...</th>\n",
       "      <th>COUPLING</th>\n",
       "      <th>minres_</th>\n",
       "      <th>HAVE_RDTSCP</th>\n",
       "      <th>constraint_index</th>\n",
       "      <th>GMX_USE_NICE</th>\n",
       "      <th>YZX</th>\n",
       "      <th>alg</th>\n",
       "      <th>ftol</th>\n",
       "      <th>*GMX_SIMD_WIDTH_HERE</th>\n",
       "      <th>j+2</th>\n",
       "    </tr>\n",
       "  </thead>\n",
       "  <tbody>\n",
       "    <tr>\n",
       "      <th>0</th>\n",
       "      <td>1</td>\n",
       "      <td>1</td>\n",
       "      <td>1</td>\n",
       "      <td>0</td>\n",
       "      <td>0</td>\n",
       "      <td>0</td>\n",
       "      <td>0</td>\n",
       "      <td>0</td>\n",
       "      <td>0</td>\n",
       "      <td>0</td>\n",
       "      <td>...</td>\n",
       "      <td>0</td>\n",
       "      <td>0</td>\n",
       "      <td>0</td>\n",
       "      <td>0</td>\n",
       "      <td>0</td>\n",
       "      <td>0</td>\n",
       "      <td>0</td>\n",
       "      <td>0</td>\n",
       "      <td>0</td>\n",
       "      <td>0</td>\n",
       "    </tr>\n",
       "  </tbody>\n",
       "</table>\n",
       "<p>1 rows × 3451 columns</p>\n",
       "</div>"
      ],
      "text/plain": [
       "   serializer->doReal  &iparams->cross_bb  krr  #include  \\\n",
       "0                   1                   1    1         0   \n",
       "\n",
       "   gromacs/mdtypes/iforceprovider  /*  Target  cdh  startFrame  sfree ...   \\\n",
       "0                               0   0       0    0           0      0 ...    \n",
       "\n",
       "   COUPLING  minres_  HAVE_RDTSCP  constraint_index  GMX_USE_NICE  YZX  alg  \\\n",
       "0         0        0            0                 0             0    0    0   \n",
       "\n",
       "   ftol  *GMX_SIMD_WIDTH_HERE  j+2  \n",
       "0     0                     0    0  \n",
       "\n",
       "[1 rows x 3451 columns]"
      ]
     },
     "execution_count": 4,
     "metadata": {},
     "output_type": "execute_result"
    }
   ],
   "source": [
    "\n",
    "X = gerrit_data.drop(['class_value', 'line'], axis=1)\n",
    "X.head(1)"
   ]
  },
  {
   "cell_type": "code",
   "execution_count": 5,
   "metadata": {},
   "outputs": [],
   "source": [
    "y = gerrit_data['class_value']"
   ]
  },
  {
   "cell_type": "code",
   "execution_count": 6,
   "metadata": {},
   "outputs": [],
   "source": [
    "pca = PCA(n_components=2)\n",
    "result = pca.fit_transform(X)"
   ]
  },
  {
   "cell_type": "code",
   "execution_count": 17,
   "metadata": {},
   "outputs": [
    {
     "data": {
      "image/png": "[encoded data removed]",
      "text/plain": [
       "<Figure size 1080x1080 with 1 Axes>"
      ]
     },
     "metadata": {
      "needs_background": "light"
     },
     "output_type": "display_data"
    }
   ],
   "source": [
    "plt.figure(figsize=(15,15))\n",
    "\n",
    "zero_ids = gerrit_data[gerrit_data['class_value'] == 0].index.tolist()\n",
    "one_ids = gerrit_data[gerrit_data['class_value'] == 1].index.tolist()\n",
    "\n",
    "plt.scatter(result[zero_ids, 0], result[zero_ids, 1], color='red', alpha=0.2, s=2)\n",
    "plt.scatter(result[one_ids, 0], result[one_ids, 1], color='green', alpha=0.2, s=2)\n",
    "\n",
    "zeros = set()\n",
    "ones = set()\n",
    "for x in result[zero_ids, :]:\n",
    "    zeros.add((x[0], x[1]))\n",
    "for x in result[one_ids, :]:\n",
    "    ones.add((x[0], x[1]))\n",
    "\n",
    "both = zeros & ones \n",
    "both_arr = np.array(list(both))\n",
    "\n",
    "plt.scatter(both_arr[:,0], \n",
    "            both_arr[:,1], color='green', edgecolors='red', s=60, alpha=0.8, linewidth='2')\n",
    "\n",
    "plt.title(\"PCA - red = 0, green = 1, green/red = both 0 and 1\")\n",
    "\n",
    "plt.show()\n",
    "plt.close()\n",
    "\n"
   ]
  },
  {
   "cell_type": "code",
   "execution_count": 8,
   "metadata": {},
   "outputs": [
    {
     "data": {
      "text/plain": [
       "array([[-5.664,  0.442]])"
      ]
     },
     "execution_count": 8,
     "metadata": {},
     "output_type": "execute_result"
    }
   ],
   "source": [
    "both_arr"
   ]
  },
  {
   "cell_type": "code",
   "execution_count": 9,
   "metadata": {},
   "outputs": [
    {
     "data": {
      "text/plain": [
       "'There are 1 out of 37635 duplicated rows with different labels'"
      ]
     },
     "execution_count": 9,
     "metadata": {},
     "output_type": "execute_result"
    }
   ],
   "source": [
    "f\"There are {len(both)} out of {gerrit_data.shape[0]} duplicated rows with different labels\""
   ]
  },
  {
   "cell_type": "code",
   "execution_count": 10,
   "metadata": {},
   "outputs": [],
   "source": [
    "model = RandomForestClassifier()"
   ]
  },
  {
   "cell_type": "code",
   "execution_count": 11,
   "metadata": {},
   "outputs": [
    {
     "data": {
      "text/plain": [
       "RandomForestClassifier(bootstrap=True, class_weight=None, criterion='gini',\n",
       "            max_depth=None, max_features='auto', max_leaf_nodes=None,\n",
       "            min_impurity_split=1e-07, min_samples_leaf=1,\n",
       "            min_samples_split=2, min_weight_fraction_leaf=0.0,\n",
       "            n_estimators=10, n_jobs=1, oob_score=False, random_state=None,\n",
       "            verbose=0, warm_start=False)"
      ]
     },
     "execution_count": 11,
     "metadata": {},
     "output_type": "execute_result"
    }
   ],
   "source": [
    "\n",
    "model.fit(X,y)"
   ]
  },
  {
   "cell_type": "code",
   "execution_count": 12,
   "metadata": {},
   "outputs": [],
   "source": [
    "y_pred = model.predict(X)"
   ]
  },
  {
   "cell_type": "code",
   "execution_count": 13,
   "metadata": {},
   "outputs": [
    {
     "data": {
      "text/plain": [
       "0.9874850538062974"
      ]
     },
     "execution_count": 13,
     "metadata": {},
     "output_type": "execute_result"
    }
   ],
   "source": [
    "accuracy_score(y, y_pred)"
   ]
  },
  {
   "cell_type": "code",
   "execution_count": 14,
   "metadata": {},
   "outputs": [
    {
     "data": {
      "text/plain": [
       "0.9747376518838046"
      ]
     },
     "execution_count": 14,
     "metadata": {},
     "output_type": "execute_result"
    }
   ],
   "source": [
    "mcc(y, y_pred)"
   ]
  },
  {
   "cell_type": "code",
   "execution_count": 15,
   "metadata": {},
   "outputs": [
    {
     "data": {
      "text/plain": [
       "0.5097117045303574"
      ]
     },
     "execution_count": 15,
     "metadata": {},
     "output_type": "execute_result"
    }
   ],
   "source": [
    "model = DummyClassifier()\n",
    "model.fit(X, y)\n",
    "y_pred = model.predict(X)\n",
    "accuracy_score(y, y_pred)"
   ]
  },
  {
   "cell_type": "code",
   "execution_count": null,
   "metadata": {},
   "outputs": [],
   "source": []
  }
 ],
 "metadata": {
  "kernelspec": {
   "display_name": "Python 3",
   "language": "python",
   "name": "python3"
  },
  "language_info": {
   "codemirror_mode": {
    "name": "ipython",
    "version": 3
   },
   "file_extension": ".py",
   "mimetype": "text/x-python",
   "name": "python",
   "nbconvert_exporter": "python",
   "pygments_lexer": "ipython3",
   "version": "3.6.6"
  }
 },
 "nbformat": 4,
 "nbformat_minor": 2
}
