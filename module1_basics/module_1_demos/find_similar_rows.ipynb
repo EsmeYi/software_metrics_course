{
 "cells": [
  {
   "cell_type": "markdown",
   "metadata": {},
   "source": [
    "### This script find the rows that are similar for the algorithm\n",
    "\n",
    "Interesting article on using GPUs: https://weeraman.com/put-that-gpu-to-good-use-with-python-e5a437168c01\n",
    "\n",
    "And on installing extra conda packages: https://conda.io/docs/user-guide/tasks/manage-pkgs.html\n",
    "\n",
    "and parsing CSV files: https://courses.cs.washington.edu/courses/cse140/13wi/csv-parsing.html\n",
    "\n",
    "and markdown cheatsheet: https://github.com/adam-p/markdown-here/wiki/Markdown-Cheatsheet\n",
    "\n",
    "\n",
    "The general idea is that we go through the file with hashes, \n",
    "* if the lines are duplicated and have the same class (e.g. count), then we leave it like that\n",
    "* if the lines are duplicated and have different classes, then we leave the \"Count\" class: in this way, we actually are too sensitive, i.e. we also catch lines that are ok\n",
    "\n",
    "To be more restrictive, and actually more accurate, we would need to look for lines that only are included in count, because this would mean that when the line is changed the class goes to Ignore, which means that the old line was \"bad\" and the new one is \"good\" w.r.t coding guidelines. "
   ]
  },
  {
   "cell_type": "code",
   "execution_count": 132,
   "metadata": {},
   "outputs": [],
   "source": [
    "import io\n",
    "\n",
    "encoding = 'utf-8'\n",
    "\n",
    "inputFile = \"F:/ccflex_gerrit_experiments/workspaces/run/processing/train-lines-with-hash.csv\"\n",
    "outputFile = \"F:/ccflex_gerrit_experiments/workspaces/run/processing/train-lines.csv\"\n",
    "\n",
    "# empty the file for the result\n",
    "#fOutputFile = open(outputFile, 'w')\n",
    "fOutputFile = io.open(outputFile, 'w')"
   ]
  },
  {
   "cell_type": "markdown",
   "metadata": {},
   "source": [
    "Now we can read the file line-by-line, and construct a hash which has the lines with their results in it\n",
    "\n",
    "This class is something we need to use to keep track the basic information about the line"
   ]
  },
  {
   "cell_type": "code",
   "execution_count": 126,
   "metadata": {},
   "outputs": [],
   "source": [
    "class CLineInfo:\n",
    "    strCSVLine = \"\"\n",
    "    iHash = 0\n",
    "    strClassName = \"\"\n",
    "    strCodeLine = \"\"\n",
    "    iClassValue = 0\n",
    "    \n",
    "    def __init__(self):\n",
    "        strCSVLine = \"\"\n",
    "        strCodeLine = \"\"\n",
    "        iHash = 0\n",
    "        strClassName = \"Ignore\"\n",
    "        iClassValue = 0"
   ]
  },
  {
   "cell_type": "markdown",
   "metadata": {},
   "source": [
    "Now, we go through the csv file and make a large dictionary with all the lines\n",
    "\n",
    "In the dictionary, we only store the lines that are:\n",
    "* not duplicated\n",
    "* if there are duplicates, and the class differs, then we only store it once and the class is \"Count\" \n",
    "\n",
    "Format for the input file (train-lines.csv): ```id$line$contents$class_name$class_value$path$hash```\n",
    "for example: \n",
    "\n",
    "```\n",
    "id$line$contents$class_name$class_value$path\n",
    ".:24$24$itemToAdd._id = _lrfl.back()._id;$count$1$F:/CCFlex30/examples/training_multiple_objects_in_one_line.cpp$aaaaaaaa\n",
    "```"
   ]
  },
  {
   "cell_type": "code",
   "execution_count": 114,
   "metadata": {},
   "outputs": [],
   "source": [
    "lineDictionary = {}\n",
    "iLineIndex = 0\n",
    "\n",
    "with open(inputFile, 'r') as fInputFile:\n",
    "    for strInputLine in fInputFile:        \n",
    "        if iLineIndex != 0:            \n",
    "            lineElements = strInputLine.split(\"$\")\n",
    "            lineObject = CLineInfo()\n",
    "            lineObject.strCSVLine = strInputLine #.replace(\"\\n\", \"_\").replace(\"\\r\", \"_\")\n",
    "            lineObject.iHash = int(lineElements[6])\n",
    "            lineObject.strCodeLine = lineElements[2]\n",
    "            lineObject.strClassName = lineElements[4]              \n",
    "            \n",
    "            # if the line already exists\n",
    "            if lineObject.iHash in lineDictionary:\n",
    "                old_line_class = lineDictionary[lineObject.iHash].strClassName\n",
    "                # then we check if the new class is \"Count\", if not, then we keep the old class\n",
    "                if (old_line_class != lineObject.strClassName) and (lineObject.strClassName == \"Count\"):\n",
    "                    lineDictionary[lineObject.iHash] = lineObject\n",
    "            else:                \n",
    "                lineDictionary[lineObject.iHash] = lineObject\n",
    "        iLineIndex += 1"
   ]
  },
  {
   "cell_type": "code",
   "execution_count": 115,
   "metadata": {},
   "outputs": [
    {
     "name": "stdout",
     "output_type": "stream",
     "text": [
      "\".:689819\"$689819$\"    option at ``[service-clients]`` section.\"$\"Ignore\"$\"0\"$\"releasenotes/notes/fix-proxy-url-support-9dc90cde8cf64d89.yaml\"$40815280\n",
      "\n"
     ]
    }
   ],
   "source": [
    "print(lineObject.strCSVLine)"
   ]
  },
  {
   "cell_type": "code",
   "execution_count": null,
   "metadata": {},
   "outputs": [],
   "source": []
  },
  {
   "cell_type": "code",
   "execution_count": 116,
   "metadata": {},
   "outputs": [
    {
     "name": "stdout",
     "output_type": "stream",
     "text": [
      "18554\n"
     ]
    }
   ],
   "source": [
    "print(len(lineDictionary))"
   ]
  },
  {
   "cell_type": "code",
   "execution_count": 133,
   "metadata": {},
   "outputs": [],
   "source": [
    "fOutputFile.write('\"id\"$\"line\"$\"contents\"$\"class_name\"$\"class_value\"$\"path\"$\"hash\"\\n')\n",
    "\n",
    "for hashKey, oneLineObject in lineDictionary.items():\n",
    "    fOutputFile.writelines(oneLineObject.strCSVLine)\n",
    "    #print(oneLineObject.strCSVLine.count('\\x00'))\n",
    "    #fOutputFile.write(\"\\n\")\n"
   ]
  },
  {
   "cell_type": "code",
   "execution_count": 122,
   "metadata": {},
   "outputs": [
    {
     "name": "stdout",
     "output_type": "stream",
     "text": [
      "\".:689819\"$689819$\"    option at ``[service-clients]`` section.\"$\"Ignore\"$\"0\"$\"releasenotes/notes/fix-proxy-url-support-9dc90cde8cf64d89.yaml\"\n"
     ]
    }
   ],
   "source": [
    "print(lineObject.strCSVLine[0:-10])"
   ]
  },
  {
   "cell_type": "code",
   "execution_count": 134,
   "metadata": {},
   "outputs": [],
   "source": [
    "fOutputFile.close()"
   ]
  },
  {
   "cell_type": "code",
   "execution_count": null,
   "metadata": {},
   "outputs": [],
   "source": []
  }
 ],
 "metadata": {
  "kernelspec": {
   "display_name": "Python 3",
   "language": "python",
   "name": "python3"
  },
  "language_info": {
   "codemirror_mode": {
    "name": "ipython",
    "version": 3
   },
   "file_extension": ".py",
   "mimetype": "text/x-python",
   "name": "python",
   "nbconvert_exporter": "python",
   "pygments_lexer": "ipython3",
   "version": "3.6.6"
  }
 },
 "nbformat": 4,
 "nbformat_minor": 2
}
