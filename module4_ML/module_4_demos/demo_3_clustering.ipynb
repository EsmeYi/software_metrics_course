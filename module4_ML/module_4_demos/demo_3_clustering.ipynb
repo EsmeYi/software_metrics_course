{
 "cells": [
  {
   "cell_type": "markdown",
   "metadata": {},
   "source": [
    "# kNN - predictions and clustering\n",
    "\n",
    "This workbook demonstrates the use of k-nearest neighbours algorithm to predict the class of a new point. In short, the algorithm works like this:\n",
    "1. It divides the train data into clusters, based how far away these data points are from one another. It uses centroids to find the center of each of the clusters. \n",
    "2. For the new point which we want to classify, it calculates the distance to k-nearest neighbours and then does voting -- the predicted class is the majority class of the nearest neighboring points.\n",
    "\n",
    "For the clustering, we do the same, but without point #2, i.e. we do not make any predictions/classifications. \n",
    "\n",
    "Here, I use the kNN algorithm to cluster entities.\n",
    "\n",
    "More information is at: https://chrisalbon.com/machine_learning/feature_engineering/group_observations_using_clustering/"
   ]
  },
  {
   "cell_type": "code",
   "execution_count": 10,
   "metadata": {},
   "outputs": [],
   "source": [
    "# Load libraries\n",
    "import pandas as pd\n",
    "import numpy as np\n",
    "\n",
    "%matplotlib inline\n",
    "import matplotlib.pyplot as plt\n",
    "import seaborn as sns; sns.set()  # for plot styling\n",
    "from sklearn import neighbors\n",
    "from sklearn.cluster import KMeans\n",
    "\n",
    "from sklearn.manifold import TSNE\n",
    "from sklearn.decomposition import PCA"
   ]
  },
  {
   "cell_type": "code",
   "execution_count": 11,
   "metadata": {},
   "outputs": [],
   "source": [
    "# get the data\n",
    "datasetDF = pd.read_csv('./community_smells_random.csv', sep=';')"
   ]
  },
  {
   "cell_type": "code",
   "execution_count": 12,
   "metadata": {},
   "outputs": [
    {
     "data": {
      "text/html": [
       "<div>\n",
       "<style scoped>\n",
       "    .dataframe tbody tr th:only-of-type {\n",
       "        vertical-align: middle;\n",
       "    }\n",
       "\n",
       "    .dataframe tbody tr th {\n",
       "        vertical-align: top;\n",
       "    }\n",
       "\n",
       "    .dataframe thead th {\n",
       "        text-align: right;\n",
       "    }\n",
       "</style>\n",
       "<table border=\"1\" class=\"dataframe\">\n",
       "  <thead>\n",
       "    <tr style=\"text-align: right;\">\n",
       "      <th></th>\n",
       "      <th>ID</th>\n",
       "      <th>NoD</th>\n",
       "      <th>TAP</th>\n",
       "      <th>LCP</th>\n",
       "      <th>SLC</th>\n",
       "      <th>DC</th>\n",
       "      <th>SDC</th>\n",
       "      <th>BC</th>\n",
       "      <th>CC</th>\n",
       "      <th>TZ</th>\n",
       "      <th>...</th>\n",
       "      <th>NC</th>\n",
       "      <th>SCC</th>\n",
       "      <th>RCZ</th>\n",
       "      <th>RDZ</th>\n",
       "      <th>RCC</th>\n",
       "      <th>SDCC</th>\n",
       "      <th>BFN</th>\n",
       "      <th>FN</th>\n",
       "      <th>TFP</th>\n",
       "      <th>class</th>\n",
       "    </tr>\n",
       "  </thead>\n",
       "  <tbody>\n",
       "    <tr>\n",
       "      <th>0</th>\n",
       "      <td>apache/mahut</td>\n",
       "      <td>44</td>\n",
       "      <td>15.95</td>\n",
       "      <td>2.2727</td>\n",
       "      <td>176.83</td>\n",
       "      <td>0.008447</td>\n",
       "      <td>0.1630</td>\n",
       "      <td>2.550000e-04</td>\n",
       "      <td>22.0</td>\n",
       "      <td>10</td>\n",
       "      <td>...</td>\n",
       "      <td>3</td>\n",
       "      <td>1289.0</td>\n",
       "      <td>396.9</td>\n",
       "      <td>6.7</td>\n",
       "      <td>132300.00</td>\n",
       "      <td>7.57</td>\n",
       "      <td>0.880</td>\n",
       "      <td>0.00733</td>\n",
       "      <td>45.19</td>\n",
       "      <td>0</td>\n",
       "    </tr>\n",
       "    <tr>\n",
       "      <th>1</th>\n",
       "      <td>apache/cassandra</td>\n",
       "      <td>348</td>\n",
       "      <td>7.30</td>\n",
       "      <td>0.2873</td>\n",
       "      <td>401.00</td>\n",
       "      <td>0.002180</td>\n",
       "      <td>0.1800</td>\n",
       "      <td>3.000000e-08</td>\n",
       "      <td>194.0</td>\n",
       "      <td>20</td>\n",
       "      <td>...</td>\n",
       "      <td>3</td>\n",
       "      <td>10979.0</td>\n",
       "      <td>1214.6</td>\n",
       "      <td>3510.0</td>\n",
       "      <td>8097.33</td>\n",
       "      <td>72.50</td>\n",
       "      <td>0.930</td>\n",
       "      <td>0.06600</td>\n",
       "      <td>49.70</td>\n",
       "      <td>0</td>\n",
       "    </tr>\n",
       "    <tr>\n",
       "      <th>2</th>\n",
       "      <td>apache/lucene-solr</td>\n",
       "      <td>181</td>\n",
       "      <td>12.83</td>\n",
       "      <td>0.5500</td>\n",
       "      <td>427.00</td>\n",
       "      <td>0.003280</td>\n",
       "      <td>0.2230</td>\n",
       "      <td>2.900000e-07</td>\n",
       "      <td>105.0</td>\n",
       "      <td>19</td>\n",
       "      <td>...</td>\n",
       "      <td>3</td>\n",
       "      <td>10116.0</td>\n",
       "      <td>164200.0</td>\n",
       "      <td>1621.0</td>\n",
       "      <td>103993.00</td>\n",
       "      <td>46.50</td>\n",
       "      <td>0.860</td>\n",
       "      <td>0.03917</td>\n",
       "      <td>47.31</td>\n",
       "      <td>1</td>\n",
       "    </tr>\n",
       "    <tr>\n",
       "      <th>3</th>\n",
       "      <td>apache/pig</td>\n",
       "      <td>32</td>\n",
       "      <td>23.13</td>\n",
       "      <td>3.1250</td>\n",
       "      <td>216.00</td>\n",
       "      <td>0.204000</td>\n",
       "      <td>0.2145</td>\n",
       "      <td>2.000000e-05</td>\n",
       "      <td>19.0</td>\n",
       "      <td>1</td>\n",
       "      <td>...</td>\n",
       "      <td>3</td>\n",
       "      <td>927.1</td>\n",
       "      <td>317300.0</td>\n",
       "      <td>3200.0</td>\n",
       "      <td>105766.00</td>\n",
       "      <td>5.80</td>\n",
       "      <td>0.840</td>\n",
       "      <td>0.01670</td>\n",
       "      <td>46.31</td>\n",
       "      <td>0</td>\n",
       "    </tr>\n",
       "    <tr>\n",
       "      <th>4</th>\n",
       "      <td>apache/jackrabbit</td>\n",
       "      <td>49</td>\n",
       "      <td>22.00</td>\n",
       "      <td>3.5600</td>\n",
       "      <td>429.56</td>\n",
       "      <td>0.130000</td>\n",
       "      <td>0.2250</td>\n",
       "      <td>6.500000e-06</td>\n",
       "      <td>29.0</td>\n",
       "      <td>1</td>\n",
       "      <td>...</td>\n",
       "      <td>3</td>\n",
       "      <td>470.0</td>\n",
       "      <td>8558.0</td>\n",
       "      <td>49.0</td>\n",
       "      <td>470.00</td>\n",
       "      <td>6.30</td>\n",
       "      <td>0.816</td>\n",
       "      <td>0.04200</td>\n",
       "      <td>33.97</td>\n",
       "      <td>1</td>\n",
       "    </tr>\n",
       "  </tbody>\n",
       "</table>\n",
       "<p>5 rows × 31 columns</p>\n",
       "</div>"
      ],
      "text/plain": [
       "                   ID  NoD    TAP     LCP     SLC        DC     SDC  \\\n",
       "0        apache/mahut   44  15.95  2.2727  176.83  0.008447  0.1630   \n",
       "1    apache/cassandra  348   7.30  0.2873  401.00  0.002180  0.1800   \n",
       "2  apache/lucene-solr  181  12.83  0.5500  427.00  0.003280  0.2230   \n",
       "3          apache/pig   32  23.13  3.1250  216.00  0.204000  0.2145   \n",
       "4   apache/jackrabbit   49  22.00  3.5600  429.56  0.130000  0.2250   \n",
       "\n",
       "             BC     CC  TZ  ...  NC      SCC       RCZ     RDZ        RCC  \\\n",
       "0  2.550000e-04   22.0  10  ...   3   1289.0     396.9     6.7  132300.00   \n",
       "1  3.000000e-08  194.0  20  ...   3  10979.0    1214.6  3510.0    8097.33   \n",
       "2  2.900000e-07  105.0  19  ...   3  10116.0  164200.0  1621.0  103993.00   \n",
       "3  2.000000e-05   19.0   1  ...   3    927.1  317300.0  3200.0  105766.00   \n",
       "4  6.500000e-06   29.0   1  ...   3    470.0    8558.0    49.0     470.00   \n",
       "\n",
       "    SDCC    BFN       FN    TFP  class  \n",
       "0   7.57  0.880  0.00733  45.19      0  \n",
       "1  72.50  0.930  0.06600  49.70      0  \n",
       "2  46.50  0.860  0.03917  47.31      1  \n",
       "3   5.80  0.840  0.01670  46.31      0  \n",
       "4   6.30  0.816  0.04200  33.97      1  \n",
       "\n",
       "[5 rows x 31 columns]"
      ]
     },
     "execution_count": 12,
     "metadata": {},
     "output_type": "execute_result"
    }
   ],
   "source": [
    "datasetDF.head()"
   ]
  },
  {
   "cell_type": "code",
   "execution_count": 13,
   "metadata": {},
   "outputs": [
    {
     "data": {
      "text/plain": [
       "Index(['ID', 'NoD', 'TAP', 'LCP', 'SLC', 'DC', 'SDC', 'BC', 'CC', 'TZ', 'SCZ',\n",
       "       'SDZ', 'CD', 'RCD', 'SD', 'RSD', 'ND', 'NR', 'SCR', 'RCR', 'RDC', 'NC',\n",
       "       'SCC', 'RCZ', 'RDZ', 'RCC', 'SDCC', 'BFN', 'FN', 'TFP', 'class'],\n",
       "      dtype='object')"
      ]
     },
     "execution_count": 13,
     "metadata": {},
     "output_type": "execute_result"
    }
   ],
   "source": [
    "# list of columns\n",
    "datasetDF.columns"
   ]
  },
  {
   "cell_type": "code",
   "execution_count": 14,
   "metadata": {},
   "outputs": [
    {
     "data": {
      "text/plain": [
       "<seaborn.axisgrid.FacetGrid at 0x1fabb217788>"
      ]
     },
     "execution_count": 14,
     "metadata": {},
     "output_type": "execute_result"
    },
    {
     "data": {
      "image/png": "[encoded data removed]",
      "text/plain": [
       "<Figure size 405.725x360 with 1 Axes>"
      ]
     },
     "metadata": {},
     "output_type": "display_data"
    }
   ],
   "source": [
    "# plot the data to see how it is\n",
    "# I only choose two columns, to make it simple\n",
    "sns.lmplot('BFN', 'SDC', data=datasetDF, fit_reg=False,hue=\"class\", scatter_kws={\"marker\": \"D\",\"s\": 100})"
   ]
  },
  {
   "cell_type": "markdown",
   "metadata": {},
   "source": [
    "## first, we use kNN to make predictions"
   ]
  },
  {
   "cell_type": "code",
   "execution_count": 15,
   "metadata": {},
   "outputs": [],
   "source": [
    "# convert the data to numpy arrays as this is the input to scikit-learn\n",
    "y = np.array(datasetDF['class'])\n"
   ]
  },
  {
   "cell_type": "code",
   "execution_count": 16,
   "metadata": {},
   "outputs": [],
   "source": [
    "dataX = datasetDF.drop(['ID','class'], axis=1)\n",
    "X = np.array(dataX)"
   ]
  },
  {
   "cell_type": "code",
   "execution_count": 17,
   "metadata": {},
   "outputs": [],
   "source": [
    "clf = neighbors.KNeighborsClassifier(2, weights = 'uniform')\n",
    "trained_model = clf.fit(X, y)"
   ]
  },
  {
   "cell_type": "markdown",
   "metadata": {},
   "source": [
    "The code above is very similar to the supervised learner in the previous demo. This is intentional, because we can use the kNN algorithm to make predictions. \n",
    "\n",
    "To make the prediction for the new point, we can just use\n",
    "\n",
    "new_y = clf.predict(x_new)"
   ]
  },
  {
   "cell_type": "markdown",
   "metadata": {},
   "source": [
    "## This is clustering"
   ]
  },
  {
   "cell_type": "code",
   "execution_count": 18,
   "metadata": {},
   "outputs": [
    {
     "data": {
      "text/plain": [
       "KMeans(algorithm='auto', copy_x=True, init='k-means++', max_iter=300,\n",
       "       n_clusters=3, n_init=10, n_jobs=None, precompute_distances='auto',\n",
       "       random_state=1, tol=0.0001, verbose=0)"
      ]
     },
     "execution_count": 18,
     "metadata": {},
     "output_type": "execute_result"
    }
   ],
   "source": [
    "# Make k-means clusterer\n",
    "clusterer = KMeans(3, random_state=1)\n",
    "\n",
    "# Fit clusterer\n",
    "clusterer.fit(X)"
   ]
  },
  {
   "cell_type": "code",
   "execution_count": 19,
   "metadata": {},
   "outputs": [
    {
     "data": {
      "text/html": [
       "<div>\n",
       "<style scoped>\n",
       "    .dataframe tbody tr th:only-of-type {\n",
       "        vertical-align: middle;\n",
       "    }\n",
       "\n",
       "    .dataframe tbody tr th {\n",
       "        vertical-align: top;\n",
       "    }\n",
       "\n",
       "    .dataframe thead th {\n",
       "        text-align: right;\n",
       "    }\n",
       "</style>\n",
       "<table border=\"1\" class=\"dataframe\">\n",
       "  <thead>\n",
       "    <tr style=\"text-align: right;\">\n",
       "      <th></th>\n",
       "      <th>ID</th>\n",
       "      <th>NoD</th>\n",
       "      <th>TAP</th>\n",
       "      <th>LCP</th>\n",
       "      <th>SLC</th>\n",
       "      <th>DC</th>\n",
       "      <th>SDC</th>\n",
       "      <th>BC</th>\n",
       "      <th>CC</th>\n",
       "      <th>TZ</th>\n",
       "      <th>...</th>\n",
       "      <th>SCC</th>\n",
       "      <th>RCZ</th>\n",
       "      <th>RDZ</th>\n",
       "      <th>RCC</th>\n",
       "      <th>SDCC</th>\n",
       "      <th>BFN</th>\n",
       "      <th>FN</th>\n",
       "      <th>TFP</th>\n",
       "      <th>class</th>\n",
       "      <th>group</th>\n",
       "    </tr>\n",
       "  </thead>\n",
       "  <tbody>\n",
       "    <tr>\n",
       "      <th>0</th>\n",
       "      <td>apache/mahut</td>\n",
       "      <td>44</td>\n",
       "      <td>15.95</td>\n",
       "      <td>2.2727</td>\n",
       "      <td>176.83</td>\n",
       "      <td>0.008447</td>\n",
       "      <td>0.1630</td>\n",
       "      <td>2.550000e-04</td>\n",
       "      <td>22.0</td>\n",
       "      <td>10</td>\n",
       "      <td>...</td>\n",
       "      <td>1289.0</td>\n",
       "      <td>396.9</td>\n",
       "      <td>6.7</td>\n",
       "      <td>132300.00</td>\n",
       "      <td>7.57</td>\n",
       "      <td>0.880</td>\n",
       "      <td>0.00733</td>\n",
       "      <td>45.19</td>\n",
       "      <td>0</td>\n",
       "      <td>0</td>\n",
       "    </tr>\n",
       "    <tr>\n",
       "      <th>1</th>\n",
       "      <td>apache/cassandra</td>\n",
       "      <td>348</td>\n",
       "      <td>7.30</td>\n",
       "      <td>0.2873</td>\n",
       "      <td>401.00</td>\n",
       "      <td>0.002180</td>\n",
       "      <td>0.1800</td>\n",
       "      <td>3.000000e-08</td>\n",
       "      <td>194.0</td>\n",
       "      <td>20</td>\n",
       "      <td>...</td>\n",
       "      <td>10979.0</td>\n",
       "      <td>1214.6</td>\n",
       "      <td>3510.0</td>\n",
       "      <td>8097.33</td>\n",
       "      <td>72.50</td>\n",
       "      <td>0.930</td>\n",
       "      <td>0.06600</td>\n",
       "      <td>49.70</td>\n",
       "      <td>0</td>\n",
       "      <td>0</td>\n",
       "    </tr>\n",
       "    <tr>\n",
       "      <th>2</th>\n",
       "      <td>apache/lucene-solr</td>\n",
       "      <td>181</td>\n",
       "      <td>12.83</td>\n",
       "      <td>0.5500</td>\n",
       "      <td>427.00</td>\n",
       "      <td>0.003280</td>\n",
       "      <td>0.2230</td>\n",
       "      <td>2.900000e-07</td>\n",
       "      <td>105.0</td>\n",
       "      <td>19</td>\n",
       "      <td>...</td>\n",
       "      <td>10116.0</td>\n",
       "      <td>164200.0</td>\n",
       "      <td>1621.0</td>\n",
       "      <td>103993.00</td>\n",
       "      <td>46.50</td>\n",
       "      <td>0.860</td>\n",
       "      <td>0.03917</td>\n",
       "      <td>47.31</td>\n",
       "      <td>1</td>\n",
       "      <td>2</td>\n",
       "    </tr>\n",
       "    <tr>\n",
       "      <th>3</th>\n",
       "      <td>apache/pig</td>\n",
       "      <td>32</td>\n",
       "      <td>23.13</td>\n",
       "      <td>3.1250</td>\n",
       "      <td>216.00</td>\n",
       "      <td>0.204000</td>\n",
       "      <td>0.2145</td>\n",
       "      <td>2.000000e-05</td>\n",
       "      <td>19.0</td>\n",
       "      <td>1</td>\n",
       "      <td>...</td>\n",
       "      <td>927.1</td>\n",
       "      <td>317300.0</td>\n",
       "      <td>3200.0</td>\n",
       "      <td>105766.00</td>\n",
       "      <td>5.80</td>\n",
       "      <td>0.840</td>\n",
       "      <td>0.01670</td>\n",
       "      <td>46.31</td>\n",
       "      <td>0</td>\n",
       "      <td>1</td>\n",
       "    </tr>\n",
       "    <tr>\n",
       "      <th>4</th>\n",
       "      <td>apache/jackrabbit</td>\n",
       "      <td>49</td>\n",
       "      <td>22.00</td>\n",
       "      <td>3.5600</td>\n",
       "      <td>429.56</td>\n",
       "      <td>0.130000</td>\n",
       "      <td>0.2250</td>\n",
       "      <td>6.500000e-06</td>\n",
       "      <td>29.0</td>\n",
       "      <td>1</td>\n",
       "      <td>...</td>\n",
       "      <td>470.0</td>\n",
       "      <td>8558.0</td>\n",
       "      <td>49.0</td>\n",
       "      <td>470.00</td>\n",
       "      <td>6.30</td>\n",
       "      <td>0.816</td>\n",
       "      <td>0.04200</td>\n",
       "      <td>33.97</td>\n",
       "      <td>1</td>\n",
       "      <td>0</td>\n",
       "    </tr>\n",
       "  </tbody>\n",
       "</table>\n",
       "<p>5 rows × 32 columns</p>\n",
       "</div>"
      ],
      "text/plain": [
       "                   ID  NoD    TAP     LCP     SLC        DC     SDC  \\\n",
       "0        apache/mahut   44  15.95  2.2727  176.83  0.008447  0.1630   \n",
       "1    apache/cassandra  348   7.30  0.2873  401.00  0.002180  0.1800   \n",
       "2  apache/lucene-solr  181  12.83  0.5500  427.00  0.003280  0.2230   \n",
       "3          apache/pig   32  23.13  3.1250  216.00  0.204000  0.2145   \n",
       "4   apache/jackrabbit   49  22.00  3.5600  429.56  0.130000  0.2250   \n",
       "\n",
       "             BC     CC  TZ  ...      SCC       RCZ     RDZ        RCC   SDCC  \\\n",
       "0  2.550000e-04   22.0  10  ...   1289.0     396.9     6.7  132300.00   7.57   \n",
       "1  3.000000e-08  194.0  20  ...  10979.0    1214.6  3510.0    8097.33  72.50   \n",
       "2  2.900000e-07  105.0  19  ...  10116.0  164200.0  1621.0  103993.00  46.50   \n",
       "3  2.000000e-05   19.0   1  ...    927.1  317300.0  3200.0  105766.00   5.80   \n",
       "4  6.500000e-06   29.0   1  ...    470.0    8558.0    49.0     470.00   6.30   \n",
       "\n",
       "     BFN       FN    TFP  class  group  \n",
       "0  0.880  0.00733  45.19      0      0  \n",
       "1  0.930  0.06600  49.70      0      0  \n",
       "2  0.860  0.03917  47.31      1      2  \n",
       "3  0.840  0.01670  46.31      0      1  \n",
       "4  0.816  0.04200  33.97      1      0  \n",
       "\n",
       "[5 rows x 32 columns]"
      ]
     },
     "execution_count": 19,
     "metadata": {},
     "output_type": "execute_result"
    }
   ],
   "source": [
    "# Predict values\n",
    "datasetDF['group'] = clusterer.predict(X)\n",
    "\n",
    "# First few observations\n",
    "datasetDF.head(5)"
   ]
  },
  {
   "cell_type": "code",
   "execution_count": 20,
   "metadata": {},
   "outputs": [
    {
     "data": {
      "text/plain": [
       "<matplotlib.collections.PathCollection at 0x1fabb706bc8>"
      ]
     },
     "execution_count": 20,
     "metadata": {},
     "output_type": "execute_result"
    },
    {
     "data": {
      "image/png": "[encoded data removed]",
      "text/plain": [
       "<Figure size 432x288 with 1 Axes>"
      ]
     },
     "metadata": {},
     "output_type": "display_data"
    }
   ],
   "source": [
    "# plot the data to see how it is\n",
    "# I only choose two columns, to make it simple\n",
    "plt.scatter(datasetDF['BFN'], datasetDF['SDC'], c=datasetDF['group'], s=50, cmap='viridis')"
   ]
  },
  {
   "cell_type": "code",
   "execution_count": 21,
   "metadata": {},
   "outputs": [
    {
     "data": {
      "image/png": "[encoded data removed]",
      "text/plain": [
       "<Figure size 432x288 with 1 Axes>"
      ]
     },
     "metadata": {},
     "output_type": "display_data"
    }
   ],
   "source": [
    "# plot the data to see how it is\n",
    "# I only choose two columns, to make it simple\n",
    "plt.scatter(datasetDF['BFN'], datasetDF['SDC'], c=datasetDF['group'], s=50, cmap='viridis')\n",
    "\n",
    "centers = clusterer.cluster_centers_\n",
    "plt.scatter(centers[:, 0], centers[:, 1], c='black', s=200, alpha=0.5);"
   ]
  },
  {
   "cell_type": "markdown",
   "metadata": {},
   "source": [
    "## Visualization using t-SNE and PCA\n",
    "\n",
    "The k-means algorithm works on data that has many parameters, which makes it hard to see. In the examples above, we chose two variables to visualize. We could have chosen to use a correlogram, but the number of features is large, so the diagram would not be readable. \n",
    "\n",
    "What we can do is to separate the features using algorithms like PCA and t-SNE and then visualize them. "
   ]
  },
  {
   "cell_type": "code",
   "execution_count": 22,
   "metadata": {},
   "outputs": [],
   "source": [
    "## Using t-SNE algorithm to visualize all variables at the same time\n",
    "tSNE = TSNE(n_components=2)\n",
    "result = tSNE.fit_transform(datasetDF.drop(['ID', 'class', 'group'], axis=1))"
   ]
  },
  {
   "cell_type": "code",
   "execution_count": 116,
   "metadata": {},
   "outputs": [
    {
     "data": {
      "text/plain": [
       "array([], dtype=float64)"
      ]
     },
     "execution_count": 116,
     "metadata": {},
     "output_type": "execute_result"
    }
   ],
   "source": [
    "both_arr"
   ]
  },
  {
   "cell_type": "code",
   "execution_count": 23,
   "metadata": {},
   "outputs": [
    {
     "data": {
      "image/png": "[encoded data removed]",
      "text/plain": [
       "<Figure size 1080x1080 with 1 Axes>"
      ]
     },
     "metadata": {},
     "output_type": "display_data"
    }
   ],
   "source": [
    "plt.figure(figsize=(15,15))\n",
    "\n",
    "zero_ids = datasetDF[datasetDF['class'] == 0].index.tolist()\n",
    "one_ids = datasetDF[datasetDF['class'] == 1].index.tolist()\n",
    "\n",
    "plt.scatter(result[zero_ids, 0], result[zero_ids, 1], color='red', alpha=0.6, s=50)\n",
    "plt.scatter(result[one_ids, 0], result[one_ids, 1], color='blue', alpha=0.6, s=50)\n",
    "\n",
    "plt.title(\"t-SNE - red = 0, green = 1\")\n",
    "\n",
    "plt.show()\n",
    "plt.close()"
   ]
  },
  {
   "cell_type": "code",
   "execution_count": 24,
   "metadata": {},
   "outputs": [],
   "source": [
    "# now the same but with PCA\n",
    "pca = PCA(n_components=2)\n",
    "resultPCA = pca.fit_transform(datasetDF.drop(['ID', 'class', 'group'], axis=1))"
   ]
  },
  {
   "cell_type": "code",
   "execution_count": 25,
   "metadata": {},
   "outputs": [
    {
     "data": {
      "image/png": "[encoded data removed]",
      "text/plain": [
       "<Figure size 1080x1080 with 1 Axes>"
      ]
     },
     "metadata": {},
     "output_type": "display_data"
    }
   ],
   "source": [
    "plt.figure(figsize=(15,15))\n",
    "\n",
    "zero_ids = datasetDF[datasetDF['class'] == 0].index.tolist()\n",
    "one_ids = datasetDF[datasetDF['class'] == 1].index.tolist()\n",
    "\n",
    "plt.scatter(resultPCA[zero_ids, 0], resultPCA[zero_ids, 1], color='orange', alpha=0.4, s=50)\n",
    "plt.scatter(resultPCA[one_ids, 0], resultPCA[one_ids, 1], color='green', alpha=0.4, s=50)\n",
    "\n",
    "plt.title(\"t-SNE - red = 0, green = 1\")\n",
    "\n",
    "plt.show()\n",
    "plt.close()"
   ]
  },
  {
   "cell_type": "code",
   "execution_count": null,
   "metadata": {},
   "outputs": [],
   "source": []
  }
 ],
 "metadata": {
  "kernelspec": {
   "display_name": "Python 3",
   "language": "python",
   "name": "python3"
  },
  "language_info": {
   "codemirror_mode": {
    "name": "ipython",
    "version": 3
   },
   "file_extension": ".py",
   "mimetype": "text/x-python",
   "name": "python",
   "nbconvert_exporter": "python",
   "pygments_lexer": "ipython3",
   "version": "3.7.6"
  }
 },
 "nbformat": 4,
 "nbformat_minor": 2
}
