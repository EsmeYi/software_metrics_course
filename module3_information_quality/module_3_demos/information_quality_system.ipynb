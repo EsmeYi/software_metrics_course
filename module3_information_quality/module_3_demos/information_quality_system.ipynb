{
 "nbformat": 4,
 "nbformat_minor": 2,
 "metadata": {
  "language_info": {
   "name": "python",
   "codemirror_mode": {
    "name": "ipython",
    "version": 3
   },
   "version": "3.7.3-final"
  },
  "orig_nbformat": 2,
  "file_extension": ".py",
  "mimetype": "text/x-python",
  "name": "python",
  "npconvert_exporter": "python",
  "pygments_lexer": "ipython3",
  "version": 3,
  "kernelspec": {
   "name": "python37364bitprogramdatavirtualenvbaa4f8dfbdcf4540bd16f6f20a403627",
   "display_name": "Python 3.7.3 64-bit ('ProgramData': virtualenv)"
  }
 },
 "cells": [
  {
   "cell_type": "markdown",
   "metadata": {},
   "source": [
    "# This is the worksbook which checks the information quality. "
   ]
  },
  {
   "cell_type": "markdown",
   "metadata": {},
   "source": [
    "## Configuration\n",
    "In the configuration section we need to define which information quality checks we perform. "
   ]
  },
  {
   "cell_type": "code",
   "execution_count": 7,
   "metadata": {},
   "outputs": [],
   "source": [
    "iq_problems_configuration_libraries = 0     # checks that the measurement instrument can be executed, i.e. problems with the libraries\n",
    "iq_problems_entity_access = 0               # checks that we can access the measured entity, in our case, this is the BugZilla database for WebKit\n",
    "\n",
    "iq_general_error = 0                        # we need this generic error as sometimes the information_quality.log file can be misformed \n",
    "                                            # (e.g. from an aborted execution)\n",
    "                                            # for the sake of simplicity, we treat this as a flag -- 0 for no errors, 1 for any number of errors"
   ]
  },
  {
   "cell_type": "markdown",
   "metadata": {},
   "source": [
    "In this code, we parse the log file and extract the relevant information. Please note that this extraction is based on how we log information, not what information is logged. \n",
    "\n",
    "This is a design choice, which is linked to how I chose to handle the information quality in the measurement system -- I catch all exceptions and write the information that is important for this information quality system. "
   ]
  },
  {
   "cell_type": "code",
   "execution_count": 16,
   "metadata": {},
   "outputs": [],
   "source": [
    "try:\n",
    "    logFile = open(\"./information_quality.log\", \"r\")\n",
    "\n",
    "    for logMessage in logFile:\n",
    "        # splitting the log information - again, this is linked to how we \n",
    "        # structured the log message in the measurement system    \n",
    "        logItem = logMessage.split(';')\n",
    "        logLevel = logItem[2]\n",
    "        logSource = logItem[1]\n",
    "        logTime = logItem[0]\n",
    "        logProblem = logItem[3]\n",
    "\n",
    "        # this part is about extracting the relevant information\n",
    "        # if this is a problem at all:\n",
    "        if (logLevel == 'ERROR'):\n",
    "\n",
    "            # if this is a problem with the library\n",
    "            if ('libraries' in logProblem):\n",
    "                iq_problems_configuration_libraries += 1\n",
    "except Exception as e:\n",
    "    iq_general_error = 1"
   ]
  },
  {
   "cell_type": "code",
   "execution_count": 17,
   "metadata": {},
   "outputs": [
    {
     "name": "stdout",
     "output_type": "stream",
     "text": "2\n"
    }
   ],
   "source": [
    "print(iq_problems_configuration_libraries)"
   ]
  },
  {
   "cell_type": "code",
   "execution_count": null,
   "metadata": {},
   "outputs": [],
   "source": []
  }
 ]
}